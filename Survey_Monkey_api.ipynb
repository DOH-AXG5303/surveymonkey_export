{
 "cells": [
  {
   "cell_type": "code",
   "execution_count": null,
   "id": "466d2c2f-bdf3-4022-977d-f01f8b9f016f",
   "metadata": {},
   "outputs": [],
   "source": [
    "import requests\n",
    "\n",
    "s = requests.session()\n",
    "\n"
   ]
  },
  {
   "cell_type": "code",
   "execution_count": null,
   "id": "21b9303d-5a3b-4d20-8259-a2f1e8e7d15d",
   "metadata": {},
   "outputs": [],
   "source": [
    "YOUR_ACCESS_TOKEN = \"OwNpo00TnGOaT4VceqO4DczIxdUSitTnFalIBupRhinMn1nhUKslrC.lJkSGdzqIh0BWrz9.zw79omdT9tHasGhPH80DBcAO4xcxfk2r05bIrs3ToBZkFyv8p9aMzJuK\""
   ]
  },
  {
   "cell_type": "code",
   "execution_count": null,
   "id": "203ddd33-2d5f-4560-bf95-62e400e75c63",
   "metadata": {},
   "outputs": [],
   "source": [
    "s.headers.update({\n",
    "  \"Authorization\": \"Bearer %s\" % YOUR_ACCESS_TOKEN,\n",
    "  \"Content-Type\": \"application/json\"\n",
    "})"
   ]
  },
  {
   "cell_type": "code",
   "execution_count": null,
   "id": "780401d2-22d4-49ab-a9c9-52f0bcd090bc",
   "metadata": {},
   "outputs": [],
   "source": []
  },
  {
   "cell_type": "code",
   "execution_count": null,
   "id": "971e9c48-d40d-4a78-b69c-17b968aba56d",
   "metadata": {},
   "outputs": [],
   "source": [
    "survey_id = \"310975086\"\n",
    "url = \"https://api.surveymonkey.com/v3/surveys/%s/responses/\" % (survey_id)\n",
    "r = s.get(url)"
   ]
  },
  {
   "cell_type": "code",
   "execution_count": null,
   "id": "c6b58aa9-a247-4f46-8ef5-914edfbc14c6",
   "metadata": {},
   "outputs": [],
   "source": []
  },
  {
   "cell_type": "code",
   "execution_count": null,
   "id": "b828da04-c856-4cfb-aa22-5b515d17b918",
   "metadata": {},
   "outputs": [],
   "source": []
  },
  {
   "cell_type": "code",
   "execution_count": null,
   "id": "9a68fdaf-6d00-41b0-ae7c-3241a72901af",
   "metadata": {},
   "outputs": [],
   "source": []
  },
  {
   "cell_type": "code",
   "execution_count": null,
   "id": "bffcebd4-4d34-4ae6-bf5c-d649c26829b9",
   "metadata": {},
   "outputs": [],
   "source": [
    "sample_url = 'https://api.surveymonkey.com/v3/surveys/310975086/responses/12928901678'"
   ]
  },
  {
   "cell_type": "code",
   "execution_count": null,
   "id": "18e2b34f-99ab-43d2-826d-5e061e2a7532",
   "metadata": {},
   "outputs": [],
   "source": [
    "r2 = s.get(sample_url)"
   ]
  },
  {
   "cell_type": "code",
   "execution_count": null,
   "id": "9d9e251a-5d0b-4a4f-97d3-de3b21692dc3",
   "metadata": {},
   "outputs": [],
   "source": [
    "r2.json()"
   ]
  },
  {
   "cell_type": "code",
   "execution_count": null,
   "id": "38b00684-82ad-4b92-a29f-ff575411d8fc",
   "metadata": {},
   "outputs": [],
   "source": [
    "data = {\n",
    "  \"Authorization\": \"Bearer %s\" % YOUR_ACCESS_TOKEN,\n",
    "  \"Content-Type\": \"application/json\"\n",
    "}\n",
    "\n",
    "\n",
    "\n",
    "r = requests.get(url, data)"
   ]
  },
  {
   "cell_type": "code",
   "execution_count": null,
   "id": "60fba4fb-0a63-4f1b-8332-7cb5b58d0778",
   "metadata": {},
   "outputs": [],
   "source": [
    "r.json()"
   ]
  },
  {
   "cell_type": "code",
   "execution_count": null,
   "id": "a477716e-095c-45a1-ab8f-df3edfb24cbf",
   "metadata": {},
   "outputs": [],
   "source": []
  },
  {
   "cell_type": "code",
   "execution_count": null,
   "id": "a799b60f-d6c3-4d24-900c-d1ce9796f03e",
   "metadata": {},
   "outputs": [],
   "source": []
  },
  {
   "cell_type": "markdown",
   "id": "e906dac4-c981-41c1-85bc-fc2951ecb1e3",
   "metadata": {},
   "source": [
    "### Useful Links:\n",
    "\n",
    "https://stackoverflow.com/questions/39134011/surveymonkey-get-all-responses-from-a-single-day-on-a-single-transaction\n",
    "\n",
    "python API wrappers:\n",
    "\n",
    "https://github.com/GearPlug/surveymonkey-python\n",
    "\n",
    "https://github.com/bcemmett/SurveyMonkeyApi-v3/blob/master/Examples.md\n",
    "\n",
    "\n"
   ]
  },
  {
   "cell_type": "code",
   "execution_count": null,
   "id": "b98f4bb7-5223-402f-913f-feabdc5a8878",
   "metadata": {},
   "outputs": [],
   "source": []
  }
 ],
 "metadata": {
  "kernelspec": {
   "display_name": "Python [conda env:transform21] *",
   "language": "python",
   "name": "conda-env-transform21-py"
  },
  "language_info": {
   "codemirror_mode": {
    "name": "ipython",
    "version": 3
   },
   "file_extension": ".py",
   "mimetype": "text/x-python",
   "name": "python",
   "nbconvert_exporter": "python",
   "pygments_lexer": "ipython3",
   "version": "3.8.10"
  }
 },
 "nbformat": 4,
 "nbformat_minor": 5
}
